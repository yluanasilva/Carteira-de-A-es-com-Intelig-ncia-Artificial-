{
 "cells": [
  {
   "cell_type": "code",
   "execution_count": null,
   "id": "55e81d1f",
   "metadata": {},
   "outputs": [],
   "source": [
    "# import pandas as pd\n",
    "import os\n",
    "\n",
    "empresas = [\"ABEV3\", \"AZUL4\", \"BTOW3\", \"B3SA3\", \"BBSE3\", \"BRML3\", \"BBDC4\", \"BRAP4\", \"BBAS3\", \"BRKM5\", \"BRFS3\", \"BPAC11\", \"CRFB3\", \"CCRO3\", \"CMIG4\", \"HGTX3\", \"CIEL3\", \"COGN3\", \"CPLE6\", \"CSAN3\", \"CPFE3\", \"CVCB3\", \"CYRE3\", \"ECOR3\", \"ELET6\", \"EMBR3\", \"ENBR3\", \"ENGI11\", \"ENEV3\", \"EGIE3\", \"EQTL3\", \"EZTC3\", \"FLRY3\", \"GGBR4\", \"GOAU4\", \"GOLL4\", \"NTCO3\", \"HAPV3\", \"HYPE3\", \"IGTA3\", \"GNDI3\", \"ITSA4\", \"ITUB4\", \"JBSS3\", \"JHSF3\", \"KLBN11\", \"RENT3\", \"LCAM3\", \"LAME4\", \"LREN3\", \"MGLU3\", \"MRFG3\", \"BEEF3\", \"MRVE3\", \"MULT3\", \"PCAR3\", \"PETR4\", \"BRDT3\", \"PRIO3\", \"QUAL3\", \"RADL3\", \"RAIL3\", \"SBSP3\", \"SANB11\", \"CSNA3\", \"SULA11\", \"SUZB3\", \"TAEE11\", \"VIVT3\", \"TIMS3\", \"TOTS3\", \"UGPA3\", \"USIM5\", \"VALE3\", \"VVAR3\", \"WEGE3\", \"YDUQ3\"]\n",
    "\n",
    "fundamentos = {}\n",
    "arquivos = os.listdir(\"balancos\")\n",
    "for arquivo in arquivos:\n",
    "    nome = arquivo[-9:-4]\n",
    "    if \"11\" in nome:\n",
    "        nome = arquivo[-10:-4]\n",
    "    if nome in empresas:\n",
    "        print(nome)\n",
    "        # pegar o balanco daquela empresa\n",
    "        balanco = pd.read_excel(f'balancos/{arquivo}', sheet_name=0)\n",
    "        # na primeira coluna colocar o título com o nome da empresa\n",
    "        balanco.iloc[0, 0] = nome\n",
    "        # pegar 1ª linha e tornar um cabeçalho\n",
    "        balanco.columns = balanco.iloc[0]\n",
    "        balanco = balanco[1:]\n",
    "        # tornar a 1ª coluna (que agora tem o nome da emrpesa)\n",
    "        balanco = balanco.set_index(nome)\n",
    "        dre = pd.read_excel(f'balancos/{arquivo}', sheet_name=1)\n",
    "        # na primeira coluna colocar o título com o nome da empresa\n",
    "        dre.iloc[0, 0] = nome\n",
    "        # pegar 1ª linha e tornar um cabeçalho\n",
    "        dre.columns = dre.iloc[0]\n",
    "        dre = dre[1:]\n",
    "        # tornar a 1ª coluna (que agora tem o nome da empresa)\n",
    "        dre = dre.set_index(nome)\n",
    "        fundamentos[nome] = balanco.append(dre)\n",
    "        "
   ]
  },
  {
   "cell_type": "code",
   "execution_count": 2,
   "id": "0a865f7a",
   "metadata": {},
   "outputs": [],
   "source": [
    "cotacoes_df = pd.read_excel(\"Cotacoes.xlsx\")\n",
    "cotacoes = {}\n",
    "for empresa in cotacoes_df[\"Empresa\"].unique():\n",
    "    cotacoes[empresa] = cotacoes_df.loc[cotacoes_df['Empresa']==empresa, :]"
   ]
  },
  {
   "cell_type": "code",
   "execution_count": 3,
   "id": "bd84aabb",
   "metadata": {},
   "outputs": [],
   "source": [
    "for empresa in empresas:\n",
    "    if cotacoes[empresa].isnull().values.any():\n",
    "        cotacoes.pop(empresa)\n",
    "        fundamentos.pop(empresa)\n",
    "empresas = list(cotacoes.keys())"
   ]
  },
  {
   "cell_type": "code",
   "execution_count": 4,
   "id": "bfc01aca",
   "metadata": {},
   "outputs": [],
   "source": [
    "# no cotacoes: jogar as datas para indice\n",
    "# no fundamentos \n",
    "    # trocar linhas por colunas \n",
    "    # tratar as datas para formato de data no python \n",
    "    # juntar os fundamentos com a coluna Adj close das cotacoes\n",
    "\n",
    "for empresa in fundamentos:\n",
    "    tabela = fundamentos[empresa].T\n",
    "    tabela.index = pd.to_datetime(tabela.index, format=\"%d/%m/%Y\")\n",
    "    tabela_cotacao = cotacoes[empresa].set_index(\"Date\")\n",
    "    tabela_cotacao = tabela_cotacao[[\"Adj Close\"]]\n",
    "    \n",
    "    tabela = tabela.merge(tabela_cotacao, right_index=True, left_index=True)\n",
    "    tabela.index.name = empresa\n",
    "    fundamentos[empresa] = tabela"
   ]
  },
  {
   "cell_type": "code",
   "execution_count": 5,
   "id": "bbdf088f",
   "metadata": {},
   "outputs": [],
   "source": [
    "# remover da análise tabelas que tem colunas diferentes \n",
    "\n",
    "colunas = list(fundamentos[\"ABEV3\"].columns)\n",
    "\n",
    "for empresa in empresas:\n",
    "    if set(colunas) != set(fundamentos[empresa].columns):\n",
    "        fundamentos.pop(empresa)"
   ]
  },
  {
   "cell_type": "code",
   "execution_count": 6,
   "id": "cb4323ed",
   "metadata": {},
   "outputs": [],
   "source": [
    "texto_colunas = \";\".join(colunas)\n",
    "\n",
    "\n",
    "colunas_modificadas = []\n",
    "for coluna in colunas:\n",
    "    if colunas.count(coluna) == 2 and coluna not in colunas_modificadas:\n",
    "        texto_colunas = texto_colunas.replace(\";\" + coluna + \";\",\";\" + coluna + \"_1;\", 1)\n",
    "        colunas_modificadas.append(coluna)\n",
    "colunas = texto_colunas.split(';')"
   ]
  },
  {
   "cell_type": "code",
   "execution_count": 7,
   "id": "f8a0fa45",
   "metadata": {},
   "outputs": [],
   "source": [
    "# implementar as colunas nas tabelas \n",
    "\n",
    "for empresa in fundamentos:\n",
    "    fundamentos[empresa].columns = colunas"
   ]
  },
  {
   "cell_type": "code",
   "execution_count": 8,
   "id": "e2e524fb",
   "metadata": {},
   "outputs": [],
   "source": [
    "valores_vazios = dict.fromkeys(colunas, 0)\n",
    "total_linhas = 0\n",
    "for empresa in fundamentos:\n",
    "    tabela = fundamentos[empresa]\n",
    "    total_linhas += tabela.shape[0]\n",
    "    for coluna in colunas:\n",
    "        qtde_vazios = pd.isnull(tabela[coluna]).sum()\n",
    "        valores_vazios[coluna] += qtde_vazios"
   ]
  },
  {
   "cell_type": "code",
   "execution_count": 9,
   "id": "cbbeacea",
   "metadata": {},
   "outputs": [],
   "source": [
    "remover_colunas = []\n",
    "for coluna in valores_vazios:\n",
    "    if valores_vazios[coluna] > 50:\n",
    "        remover_colunas.append(coluna)\n",
    "\n",
    "for empresa in fundamentos:\n",
    "    fundamentos[empresa] = fundamentos[empresa].drop(remover_colunas, axis=1)\n",
    "    fundamentos[empresa] = fundamentos[empresa].ffill()\n",
    "    "
   ]
  },
  {
   "cell_type": "code",
   "execution_count": 10,
   "id": "acfd4259",
   "metadata": {},
   "outputs": [],
   "source": [
    "data_inicial = \"12/20/2012\"\n",
    "data_final = \"04/20/2021\"\n",
    "\n",
    "from pandas_datareader import data as web\n",
    "\n",
    "df_ibov = web.DataReader('^BVSP', data_source='yahoo', start=data_inicial, end=data_final)\n"
   ]
  },
  {
   "cell_type": "code",
   "execution_count": 11,
   "id": "fc66ab48",
   "metadata": {},
   "outputs": [],
   "source": [
    "import numpy as np \n",
    "\n",
    "datas = fundamentos[\"ABEV3\"].index\n",
    "\n",
    "for data in datas:\n",
    "    if data not in df_ibov.index:\n",
    "        df_ibov.loc[data] = np.nan\n",
    "df_ibov = df_ibov.sort_index()\n",
    "df_ibov = df_ibov.ffill()\n",
    "df_ibov = df_ibov.rename(columns={\"Adj Close\": \"IBOV\"})\n",
    "\n",
    "for empresa in fundamentos:\n",
    "    fundamentos[empresa] = fundamentos[empresa].merge(df_ibov[[\"IBOV\"]],left_index=True, right_index=True)\n",
    "    "
   ]
  },
  {
   "cell_type": "code",
   "execution_count": 12,
   "id": "21b4bdf3",
   "metadata": {},
   "outputs": [],
   "source": [
    "# tornar indicadores em percentuais \n",
    "# fundamento%tri = fundamento tr / fundamento tri anterior\n",
    "# cotacao%tri = cotacao tri seguinte / cotacao tri\n",
    "\n",
    "for empresa in fundamentos:\n",
    "    fundamento = fundamentos[empresa]\n",
    "    fundamento = fundamento.sort_index()\n",
    "    for coluna in fundamento :\n",
    "        if \"Adj Close\" in coluna or \"IBOV\" in coluna:\n",
    "            pass\n",
    "        else:\n",
    "            #pegar a cotação anterior \n",
    "            condicoes = [\n",
    "                (fundamento[coluna].shift(1) > 0) & (fundamento[coluna] < 0),\n",
    "                (fundamento[coluna].shift(1) < 0) & (fundamento[coluna] > 0),\n",
    "                (fundamento[coluna].shift(1) < 0) & (fundamento[coluna] < 0),\n",
    "                (fundamento[coluna].shift(1) == 0) & (fundamento[coluna] > 0),\n",
    "                (fundamento[coluna].shift(1) == 0) & (fundamento[coluna] < 0),\n",
    "                (fundamento[coluna].shift(1) < 0) & (fundamento[coluna] == 0),\n",
    "            ]\n",
    "            \n",
    "            valores = [\n",
    "                -1,\n",
    "                1,\n",
    "                (abs(fundamento[coluna].shift(1)) - abs(fundamento[coluna])) / abs(fundamento[coluna].shift(1)),\n",
    "                1,\n",
    "                -1,\n",
    "                1,\n",
    "            ]\n",
    "            fundamento[coluna] = np.select(condicoes, valores, default=fundamento[coluna]/fundamento[coluna].shift(1)-1)\n",
    "      \n",
    "    #pegar cotação seguinte \n",
    "    fundamento[\"Adj Close\"] = fundamento[\"Adj Close\"].shift(-1) / fundamento[\"Adj Close\"] - 1\n",
    "    fundamento[\"IBOV\"] = fundamento[\"IBOV\"].shift(-1) / fundamento[\"IBOV\"] - 1\n",
    "    fundamento[\"Resultado\"] = fundamento[\"Adj Close\"] - fundamento[\"IBOV\"]\n",
    "    condicoes = [\n",
    "        (fundamento[\"Resultado\"] > 0),\n",
    "        (fundamento[\"Resultado\"] < 0) & (fundamento[\"Resultado\"] >= -0.02),\n",
    "        (fundamento[\"Resultado\"] < -0.02)\n",
    "    ]\n",
    "    valores = [2, 1, 0]\n",
    "    \n",
    "    fundamento[\"Decisao\"] = np.select(condicoes, valores)\n",
    "    \n",
    "    fundamentos[empresa] = fundamento \n"
   ]
  },
  {
   "cell_type": "code",
   "execution_count": 13,
   "id": "5f7e7b00",
   "metadata": {},
   "outputs": [],
   "source": [
    "# remover valores vazios\n",
    "colunas = list(fundamentos[\"ABEV3\"].columns)\n",
    "valores_vazios = dict.fromkeys(colunas, 0)\n",
    "total_linhas = 0\n",
    "for empresa in fundamentos:\n",
    "    tabela = fundamentos[empresa]\n",
    "    total_linhas += tabela.shape[0]\n",
    "    for coluna in colunas:\n",
    "        qtde_vazios = pd.isnull(tabela[coluna]).sum()\n",
    "        valores_vazios[coluna] += qtde_vazios"
   ]
  },
  {
   "cell_type": "code",
   "execution_count": 14,
   "id": "2f2ebee6",
   "metadata": {},
   "outputs": [],
   "source": [
    "remover_colunas = []\n",
    "for coluna in valores_vazios:\n",
    "    if valores_vazios[coluna] > (total_linhas / 3):\n",
    "        remover_colunas.append(coluna)\n",
    "\n",
    "for empresa in fundamentos:\n",
    "    fundamentos[empresa] = fundamentos[empresa].drop(remover_colunas, axis=1)\n",
    "    fundamentos[empresa] = fundamentos[empresa].fillna(0)\n",
    "    "
   ]
  },
  {
   "cell_type": "code",
   "execution_count": 15,
   "id": "6fc72311",
   "metadata": {},
   "outputs": [],
   "source": [
    "for empresa in fundamentos:\n",
    "    fundamentos[empresa] = fundamentos[empresa].drop([\"Adj Close\", \"IBOV\", \"Resultado\"], axis=1)"
   ]
  },
  {
   "cell_type": "code",
   "execution_count": 16,
   "id": "30d253c5",
   "metadata": {},
   "outputs": [],
   "source": [
    "copia_fundamentos = fundamentos.copy()"
   ]
  },
  {
   "cell_type": "code",
   "execution_count": null,
   "id": "a120ef7c",
   "metadata": {},
   "outputs": [],
   "source": [
    "# base_dados = pd.DataFrame()\n",
    "for empresa in copia_fundamentos:\n",
    "    copia_fundamentos[empresa] = copia_fundamentos[empresa][1:-1]\n",
    "    copia_fundamentos[empresa] = copia_fundamentos[empresa].reset_index(drop=True)\n",
    "    base_dados = base_dados.append(copia_fundamentos[empresa])\n",
    "    display(base_dados)"
   ]
  },
  {
   "cell_type": "code",
   "execution_count": null,
   "id": "05601690",
   "metadata": {},
   "outputs": [],
   "source": [
    "# import plotly.express as px\n",
    "import matplotlib.pyplot as plt \n",
    "import seaborn as sns\n",
    "\n",
    "display(base_dados[\"Decisao\"].value_counts(normalize=True).map(\"{:.1%}\".format))\n",
    "fig = px.histogram(base_dados, x=\"Decisao\", color=\"Decisao\")\n",
    "fig.show()"
   ]
  },
  {
   "cell_type": "code",
   "execution_count": null,
   "id": "a9ad05c7",
   "metadata": {},
   "outputs": [],
   "source": [
    "# vou tirar a categoria 1 e transfomar em 0\n",
    "base_dados.loc[base_dados[\"Decisao\"]==1, \"Decisao\"] = 0\n",
    "\n",
    "display(base_dados[\"Decisao\"].value_counts(normalize=True).map(\"{:.1%}\".format))\n",
    "fig = px.histogram(base_dados, x=\"Decisao\", color=\"Decisao\")\n",
    "fig.show()"
   ]
  },
  {
   "cell_type": "code",
   "execution_count": null,
   "id": "f72d73e8",
   "metadata": {},
   "outputs": [],
   "source": [
    "#análise de correlação \n",
    "\n",
    "correlacoes = base_dados.corr()\n",
    "\n",
    "fig, ax =plt.subplots(figsize=(15,10))\n",
    "sns.heatmap(correlacoes, cmap=\"Wistia\", ax=ax)\n",
    "plt.show()"
   ]
  },
  {
   "cell_type": "code",
   "execution_count": null,
   "id": "f6679ecf",
   "metadata": {},
   "outputs": [],
   "source": [
    "correlacoes_encontradas = []\n",
    "for coluna in correlacoes:\n",
    "    for linha in correlacoes.index:\n",
    "        if linha != coluna:\n",
    "            valor = abs(correlacoes.loc[linha, coluna])\n",
    "            if valor > 0.8 and (coluna, linha, valor) not in correlacoes_encontradas:\n",
    "                correlacoes_encontradas.append((linha,coluna,valor))\n",
    "                print(f\"Correlação Encontrada: {linha} e {coluna}. Valor :{valor}\")\n",
    "                \n"
   ]
  },
  {
   "cell_type": "code",
   "execution_count": 22,
   "id": "86e5547e",
   "metadata": {},
   "outputs": [],
   "source": [
    "remover = ['Ativo Circulante', 'Contas a Receber_1', 'Tributos a Recuperar', 'Passivo Total', 'Passivo Circulante', 'Patrimônio Líquido', 'Capital Social Realizado', 'Receita Líquida de Vendas e/ou Serviços', 'Resultado Bruto', 'Despesas Gerais e Administrativas']\n",
    "base_dados = base_dados.drop(remover, axis=1)"
   ]
  },
  {
   "cell_type": "code",
   "execution_count": null,
   "id": "4ff87f45",
   "metadata": {},
   "outputs": [],
   "source": [
    "# vamos treinar uma árvore de decisão  e pegar as caracteristica mais importante dela \n",
    "\n",
    "from sklearn.ensemble import ExtraTreesClassifier \n",
    "\n",
    "modelo = ExtraTreesClassifier(random_state=1)\n",
    "x = base_dados.drop(\"Decisao\", axis =1)\n",
    "y = base_dados[\"Decisao\"]\n",
    "modelo.fit(x,y)\n",
    "\n",
    "caracteristicas_importantes = pd.DataFrame(modelo.feature_importances_, x.columns).sort_values(by=0, ascending=False)\n",
    "top10 = list(caracteristicas_importantes.index)[:10]\n",
    "print(top10)"
   ]
  },
  {
   "cell_type": "code",
   "execution_count": null,
   "id": "97b26c92",
   "metadata": {},
   "outputs": [],
   "source": [
    "# Aplicação do StandardScaler para melhorar o modelo de Machine Learning\n",
    "\n",
    "from sklearn.preprocessing import StandardScaler\n",
    "\n",
    "def ajustar_scaler(tabela_original):\n",
    "    scaler = StandardScaler()\n",
    "    tabela_auxiliar = tabela_original.drop(\"Decisao\", axis=1)\n",
    "    \n",
    "    tabela_auxiliar = pd.DataFrame(scaler.fit_transform(tabela_auxiliar), tabela_auxiliar.index,tabela_auxiliar.columns)\n",
    "    tabela_auxiliar[\"Decisao\"] = tabela_original[\"Decisao\"]\n",
    "    return tabela_auxiliar\n",
    "\n",
    "nova_base_dados = ajustar_scaler(base_dados)\n",
    "top10.append(\"Decisao\")\n",
    "\n",
    "nova_base_dados = nova_base_dados[top10].reset_index(drop=True)\n",
    "display(nova_base_dados)\n"
   ]
  },
  {
   "cell_type": "code",
   "execution_count": 25,
   "id": "d0d774a1",
   "metadata": {},
   "outputs": [],
   "source": [
    "#separação de dados em treino e teste \n",
    "\n",
    "from sklearn.model_selection import train_test_split \n",
    "\n",
    "x = nova_base_dados.drop(\"Decisao\", axis=1)\n",
    "y = nova_base_dados[\"Decisao\"]\n",
    "\n",
    "x_treino, x_teste, y_treino, y_teste = train_test_split(x, y, random_state=1)\n"
   ]
  },
  {
   "cell_type": "code",
   "execution_count": 26,
   "id": "861439cc",
   "metadata": {},
   "outputs": [],
   "source": [
    "# Criação de um Dummy Classifier\n",
    "\n",
    "from sklearn.dummy import DummyClassifier \n",
    "from sklearn.metrics import classification_report, confusion_matrix \n",
    "\n",
    "dummy = DummyClassifier(strategy=\"stratified\", random_state=2)\n",
    "dummy.fit(x_treino,y_treino)\n",
    "previsao_dummy = dummy.predict(x_teste)"
   ]
  },
  {
   "cell_type": "code",
   "execution_count": null,
   "id": "95017978",
   "metadata": {},
   "outputs": [],
   "source": [
    "def avaliar(y_teste, previsoes, nome_modelo):\n",
    "    print(nome_modelo)\n",
    "    report = classification_report(y_teste, previsoes)\n",
    "    print(report)\n",
    "    cf_matrix = pd.DataFrame(confusion_matrix(y_teste, previsoes), index=[\"Vender\", \"Comprar\"], columns=[\"Vender\", \"Comprar\"])\n",
    "    sns.heatmap(cf_matrix, annot=True, cmap=\"Blues\", fmt=',')\n",
    "    plt.show()\n",
    "    print(\"#\" * 50) # separasão visual apenas\n",
    "\n",
    "avaliar(y_teste, previsao_dummy, \"Dummy\")\n"
   ]
  },
  {
   "cell_type": "markdown",
   "id": "f7eb15c4",
   "metadata": {},
   "source": [
    "# Modelos que vamos testar\n",
    "#- AdaBoost\n",
    "#- Decision Tree\n",
    "#- Random Forest\n",
    "#- ExtraTree\n",
    "#- Gradient Boost\n",
    "#- K Nearest Neighbors (KNN)\n",
    "#- Logistic Regression\n",
    "#- Naive Bayes\n",
    "#- Support Vector Machine (SVM)\n",
    "#- Rede Neural\n"
   ]
  },
  {
   "cell_type": "code",
   "execution_count": 28,
   "id": "f2aa9322",
   "metadata": {},
   "outputs": [],
   "source": [
    "from sklearn.ensemble import AdaBoostClassifier, GradientBoostingClassifier, RandomForestClassifier, ExtraTreesClassifier\n",
    "from sklearn.tree import DecisionTreeClassifier\n",
    "from sklearn.neighbors import KNeighborsClassifier\n",
    "from sklearn.linear_model import LogisticRegression\n",
    "from sklearn.naive_bayes import GaussianNB\n",
    "from sklearn.svm import SVC\n",
    "from sklearn.neural_network import MLPClassifier\n",
    "\n",
    "modelos = {\n",
    "    \"AdaBoost\": AdaBoostClassifier(random_state=1),\n",
    "    \"DecisionTree\": DecisionTreeClassifier(random_state=1),\n",
    "    \"RandomForest\": RandomForestClassifier(random_state=1),\n",
    "    \"ExtraTree\": ExtraTreesClassifier(random_state=1),\n",
    "    \"GradientBoost\": GradientBoostingClassifier(random_state=1),\n",
    "    \"KNN\": KNeighborsClassifier(),\n",
    "    \"LogisticRegression\": LogisticRegression(random_state=1),\n",
    "    \"NaiveBayes\": GaussianNB(),\n",
    "    \"SVM\": SVC(random_state=1),\n",
    "    \"RedeNeural\": MLPClassifier(random_state=1, max_iter=400),\n",
    "}"
   ]
  },
  {
   "cell_type": "code",
   "execution_count": null,
   "id": "aa886ffe",
   "metadata": {},
   "outputs": [],
   "source": [
    "for nome_modelo in modelos:\n",
    "    modelo = modelos[nome_modelo]\n",
    "    modelo.fit(x_treino, y_treino)\n",
    "    previsoes = modelo.predict(x_teste)\n",
    "    avaliar(y_teste,previsoes, nome_modelo)\n",
    "    modelos[nome_modelo] = modelo"
   ]
  },
  {
   "cell_type": "code",
   "execution_count": 34,
   "id": "b2fcf419",
   "metadata": {},
   "outputs": [
    {
     "name": "stdout",
     "output_type": "stream",
     "text": [
      "Ajuste Feito\n"
     ]
    }
   ],
   "source": [
    "# tunning do modelo Random Forest\n",
    "from sklearn.model_selection import GridSearchCV\n",
    "from sklearn.metrics import make_scorer, precision_score\n",
    "\n",
    "modelo_final = modelos[\"RandomForest\"]\n",
    "\n",
    "n_estimators = range(10, 251, 30)\n",
    "max_features = list(range(2,11,2))\n",
    "max_features.append('auto')\n",
    "min_samples_split = range(2,11,2)\n",
    "\n",
    "precision2_score = make_scorer(precision_score, labels=[2], average='macro')\n",
    "\n",
    "grid = GridSearchCV(\n",
    "    estimator=RandomForestClassifier(),\n",
    "    param_grid={\n",
    "        'n_estimators' : n_estimators,\n",
    "        'max_features' : max_features,\n",
    "        'min_samples_split' : min_samples_split,\n",
    "        'random_state' : [1],  \n",
    "    },\n",
    "    scoring = precision2_score,\n",
    "    \n",
    ")\n",
    "\n",
    "resultado_grid = grid.fit(x_treino, y_treino)\n",
    "print(\"Ajuste Feito\")\n",
    "\n"
   ]
  },
  {
   "cell_type": "code",
   "execution_count": null,
   "id": "84f7a949",
   "metadata": {},
   "outputs": [],
   "source": [
    "modelo_tunado = resultado_grid.best_estimator_\n",
    "previsoes = modelo_tunado.predict(x_teste)\n",
    "avaliar(y_teste, previsoes, \"RandomForest Tunado\")"
   ]
  },
  {
   "cell_type": "code",
   "execution_count": null,
   "id": "45171a3c",
   "metadata": {},
   "outputs": [],
   "source": [
    "ult_tri_fundamentos = fundamentos.copy()\n",
    "ult_tri_base_dados = pd.DataFrame()\n",
    "lista_empresas = []\n",
    "for empresa in ult_tri_fundamentos:\n",
    "    ult_tri_fundamentos[empresa] = ult_tri_fundamentos[empresa][-1:]\n",
    "    ult_tri_fundamentos[empresa] = ult_tri_fundamentos[empresa].reset_index(drop=True)\n",
    "    ult_tri_base_dados = ult_tri_base_dados.append(ult_tri_fundamentos[empresa])\n",
    "    lista_empresas.append(empresa)\n",
    "    display(ult_tri_base_dados)\n",
    "    print(lista_empresas)"
   ]
  },
  {
   "cell_type": "code",
   "execution_count": null,
   "id": "cad95f7f",
   "metadata": {},
   "outputs": [],
   "source": [
    "ult_tri_base_dados = ult_tri_base_dados.reset_index(drop=True)\n",
    "ult_tri_base_dados = ult_tri_base_dados[top10]\n",
    "ult_tri_base_dados = ajustar_scaler(ult_tri_base_dados)\n",
    "ult_tri_base_dados = ult_tri_base_dados.drop(\"Decisao\", axis=1)\n",
    "display(ult_tri_base_dados)\n"
   ]
  },
  {
   "cell_type": "code",
   "execution_count": null,
   "id": "8da42596",
   "metadata": {},
   "outputs": [],
   "source": [
    "previsoes_ult_tri = modelo_tunado.predict(ult_tri_base_dados)\n",
    "print(previsoes_ult_tri)\n",
    "\n",
    "carteira = []\n",
    "carteira_inicial = []\n",
    "\n",
    "for i, empresa in enumerate(lista_empresas):\n",
    "    if previsoes_ult_tri[i] == 2:\n",
    "        print(empresa)\n",
    "        carteira_inicial.append(1000)\n",
    "        cotacao = cotacoes[empresa]\n",
    "        cotacao = cotacao.set_index(\"Date\")\n",
    "        cotacao_inicial = cotacao.loc[\"2020-12-31\", \"Adj Close\"]\n",
    "        cotacao_final = cotacao.loc[ \"2021-03-31\", \"Adj Close\"]\n",
    "        percentual = cotacao_final / cotacao_inicial\n",
    "        carteira.append(1000 * percentual)\n",
    "        \n",
    "saldo_inicial = sum(carteira_inicial)\n",
    "saldo_final = sum(carteira)\n",
    "print(saldo_inicial, saldo_final)\n",
    "print(saldo_final / saldo_inicial)"
   ]
  },
  {
   "cell_type": "code",
   "execution_count": 62,
   "id": "226282cf",
   "metadata": {},
   "outputs": [
    {
     "name": "stdout",
     "output_type": "stream",
     "text": [
      "0.9776038086936114\n"
     ]
    }
   ],
   "source": [
    "variacao_ibov = df_ibov.loc[\"2021-03-31\",\"IBOV\"] / df_ibov.loc[\"2020-12-31\", \"IBOV\"]\n",
    "print(variacao_ibov)"
   ]
  },
  {
   "cell_type": "code",
   "execution_count": 63,
   "id": "151fca61",
   "metadata": {},
   "outputs": [
    {
     "name": "stdout",
     "output_type": "stream",
     "text": [
      "Requirement already satisfied: joblib in c:\\users\\pichau\\anaconda3\\lib\\site-packages (1.1.0)\n",
      "Note: you may need to restart the kernel to use updated packages.\n"
     ]
    }
   ],
   "source": [
    "pip install joblib"
   ]
  },
  {
   "cell_type": "code",
   "execution_count": 64,
   "id": "035f9028",
   "metadata": {},
   "outputs": [
    {
     "data": {
      "text/plain": [
       "['ia_carteiraacoes.joblib']"
      ]
     },
     "execution_count": 64,
     "metadata": {},
     "output_type": "execute_result"
    }
   ],
   "source": [
    "# Armazenar IA\n",
    "\n",
    "import joblib\n",
    "\n",
    "joblib.dump(modelo_tunado, \"ia_carteiraacoes.joblib\")\n",
    "\n",
    "# modelo_tunado = joblib.load(\"ia_carteiraacoes.joblib\")"
   ]
  },
  {
   "cell_type": "code",
   "execution_count": null,
   "id": "eec3fd8d",
   "metadata": {},
   "outputs": [],
   "source": [
    "\n"
   ]
  }
 ],
 "metadata": {
  "kernelspec": {
   "display_name": "Python 3 (ipykernel)",
   "language": "python",
   "name": "python3"
  },
  "language_info": {
   "codemirror_mode": {
    "name": "ipython",
    "version": 3
   },
   "file_extension": ".py",
   "mimetype": "text/x-python",
   "name": "python",
   "nbconvert_exporter": "python",
   "pygments_lexer": "ipython3",
   "version": "3.9.12"
  }
 },
 "nbformat": 4,
 "nbformat_minor": 5
}
